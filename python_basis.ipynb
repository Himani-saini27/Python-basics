{
  "nbformat": 4,
  "nbformat_minor": 0,
  "metadata": {
    "colab": {
      "provenance": []
    },
    "kernelspec": {
      "name": "python3",
      "display_name": "Python 3"
    },
    "language_info": {
      "name": "python"
    }
  },
  "cells": [
    {
      "cell_type": "markdown",
      "source": [
        "python basis questions\n",
        "\n",
        "1. What is Python, and why is it popular?\n",
        "  - python is a programming language which used to creating instruction for computer to follows.\n",
        "  It is popular because easy to learn and widely used in the data industry.\n",
        "  "
      ],
      "metadata": {
        "id": "Cnfbq2cidloS"
      }
    },
    {
      "cell_type": "markdown",
      "source": [
        " 2. What is an interpreter in Python?\n",
        "    - Interpreter is the program that read and execute the python code in the python. for example - print .\n",
        "\n",
        "    \n"
      ],
      "metadata": {
        "id": "7xyd-0zrfQvF"
      }
    },
    {
      "cell_type": "markdown",
      "source": [
        " 3. What are pre-defined keywords in Python?\n",
        "    - pre-defined keywords are the reserved word in the python that have special meanings and can't be used as identifiers.\n",
        "        for example - if , else, while, for etc.\n",
        "        "
      ],
      "metadata": {
        "id": "OFHVDv6cg_pe"
      }
    },
    {
      "cell_type": "markdown",
      "source": [
        " 4.  Can keywords be used as variable names?\n",
        "     - no\n",
        "    "
      ],
      "metadata": {
        "id": "k2xVnOFziI2v"
      }
    },
    {
      "cell_type": "markdown",
      "source": [
        " 5. What is mutability in Python?\n",
        "    - The mutability is the state or value of the object/container which can be changed after they are created."
      ],
      "metadata": {
        "id": "BYcF0ksbixHG"
      }
    },
    {
      "cell_type": "markdown",
      "source": [
        " 6. Why are lists mutable, but tuples are immutable?\n",
        "    - Lists are mutable because it allocated data in two block in which one is fixed and second can be change ,whereas tuples are immutables because they store data in single memory block."
      ],
      "metadata": {
        "id": "O2TeTXhrjv9m"
      }
    },
    {
      "cell_type": "markdown",
      "source": [
        " 7. What is the difference between “==” and “is” operators in Python?\n",
        "    - Operator \"==\" and \"is\" both are used for comparison. As \"==\" is used to compare that two element is equal to or not , whereas \"is\" is identity operator used to compare identity of two object."
      ],
      "metadata": {
        "id": "P-dhGCDClo-v"
      }
    },
    {
      "cell_type": "markdown",
      "source": [
        " 8. What are logical operators in Python?\n",
        "    - logical operators are used to combine conditional statements.\n",
        "    - These are 3 types i.e -logical and, logical or, logical not .\n",
        "    "
      ],
      "metadata": {
        "id": "i8JgnsXdnHw7"
      }
    },
    {
      "cell_type": "markdown",
      "source": [
        " 9. What is type casting in Python?\n",
        "    - the process of changing the datatype of value/object is called type casting. for example - string to float."
      ],
      "metadata": {
        "id": "KF5G9MMGn_WE"
      }
    },
    {
      "cell_type": "markdown",
      "source": [
        "10. What is the difference between implicit and explicit type casting?\n",
        "    - In implicit type casting,the programming language automatically convert the datatype if needed.for example -- in python .\n",
        "    - in explicit type casting, the programmer explicitly convert a value from one data type to another. for example - in java , c++ ."
      ],
      "metadata": {
        "id": "sxtCM3E7ooqc"
      }
    },
    {
      "cell_type": "markdown",
      "source": [
        " 11. What is the purpose of conditional statements in Python?\n",
        "     - conditional statement purpose in python is that to execute code based on certain condition , to do calculation or analysis."
      ],
      "metadata": {
        "id": "B63MPrUPq5Ih"
      }
    },
    {
      "cell_type": "markdown",
      "source": [
        "12. How does the elif statement work?\n",
        "    - Elif statement in python handle multiple statements ,as it check multiple statement and execute the block of code as the one condition is true."
      ],
      "metadata": {
        "id": "qGumIZnOrwtz"
      }
    },
    {
      "cell_type": "markdown",
      "source": [
        " 13. What is the difference between for and while loops?\n",
        "     - while loops- it repeatedly executed a block of code until a condition is met .\n",
        "     - for loop- it do iterate over a sequence of elements, string and list are sequential data."
      ],
      "metadata": {
        "id": "8d-fygK1tgUg"
      }
    },
    {
      "cell_type": "markdown",
      "source": [
        " 14. Describe a scenario where a while loop is more suitable than a for loop.\n",
        "     - When we fill any online form ,if right things not be filled by user then loop will be in continue until condition is met ."
      ],
      "metadata": {
        "id": "2BzRuuNDvqO5"
      }
    },
    {
      "cell_type": "markdown",
      "source": [
        " Practical Questions\n"
      ],
      "metadata": {
        "id": "1jlXcfcTxSF_"
      }
    },
    {
      "cell_type": "code",
      "source": [
        " # 1. Write a Python program to print \"Hello, World!\n",
        "print(\"Hello world!\")"
      ],
      "metadata": {
        "colab": {
          "base_uri": "https://localhost:8080/"
        },
        "id": "Cyz-CKBCxiGq",
        "outputId": "46517dc5-279b-4459-d460-ab39140116f0"
      },
      "execution_count": null,
      "outputs": [
        {
          "output_type": "stream",
          "name": "stdout",
          "text": [
            "Hello world!\n"
          ]
        }
      ]
    },
    {
      "cell_type": "code",
      "source": [
        "# 2. Write a Python program that displays your name and age.\n",
        "name=\"Himani saini\"\n",
        "age =\"22\"\n",
        "print (\"name:\",name)\n",
        "print (\"age:\",age)"
      ],
      "metadata": {
        "colab": {
          "base_uri": "https://localhost:8080/"
        },
        "id": "jnqryGBuyJYN",
        "outputId": "df30a604-2c08-4262-9b5e-46f6884d3509"
      },
      "execution_count": null,
      "outputs": [
        {
          "output_type": "stream",
          "name": "stdout",
          "text": [
            "name: Himani saini\n",
            "age: 22\n"
          ]
        }
      ]
    },
    {
      "cell_type": "code",
      "source": [
        " # 3. Write code to print all the pre-defined keywords in Python using the keyword library.\n",
        "import keyword\n",
        "# Print all the pre-defined keywords in Python\n",
        "print(\"Python Keywords:\")\n",
        "for kw in keyword.kwlist:\n",
        "    print(kw)"
      ],
      "metadata": {
        "id": "oytZojJYzXTv",
        "colab": {
          "base_uri": "https://localhost:8080/"
        },
        "outputId": "752d17a4-28da-4640-9e2a-7e99b2bcfdee"
      },
      "execution_count": null,
      "outputs": [
        {
          "output_type": "stream",
          "name": "stdout",
          "text": [
            "Python Keywords:\n",
            "False\n",
            "None\n",
            "True\n",
            "and\n",
            "as\n",
            "assert\n",
            "async\n",
            "await\n",
            "break\n",
            "class\n",
            "continue\n",
            "def\n",
            "del\n",
            "elif\n",
            "else\n",
            "except\n",
            "finally\n",
            "for\n",
            "from\n",
            "global\n",
            "if\n",
            "import\n",
            "in\n",
            "is\n",
            "lambda\n",
            "nonlocal\n",
            "not\n",
            "or\n",
            "pass\n",
            "raise\n",
            "return\n",
            "try\n",
            "while\n",
            "with\n",
            "yield\n"
          ]
        }
      ]
    },
    {
      "cell_type": "code",
      "source": [
        "#4.  Write a program that checks if a given word is a Python keyword.\n",
        "import keyword\n",
        "s = 'while'\n",
        "# Check if it's a Python keyword\n",
        "if keyword.iskeyword(s):\n",
        "    print(f\"'{s}' is a Python keyword.\")\n",
        "else:\n",
        "    print(f\"'{s}' is not a Python keyword.\")\n"
      ],
      "metadata": {
        "id": "wdWJSROF4SWT",
        "colab": {
          "base_uri": "https://localhost:8080/"
        },
        "outputId": "c56a2500-4d3d-4a1b-bd06-ba2792fc5d57"
      },
      "execution_count": null,
      "outputs": [
        {
          "output_type": "stream",
          "name": "stdout",
          "text": [
            "'while' is a Python keyword.\n"
          ]
        }
      ]
    },
    {
      "cell_type": "code",
      "source": [
        "# 5.  Create a list and tuple in Python, and demonstrate how attempting to change an element works differently\n",
        "\n",
        "# for list\n",
        "my_list=[1,2,3,4,5]\n",
        "my_list[2]=300\n",
        "print(my_list)\n",
        "\n",
        "# for tuple\n",
        "my_tuple=[1,2,3,4,5]\n",
        "my_tuple[2]=300\n",
        "print(my_tuple)\n"
      ],
      "metadata": {
        "id": "xp31z3eT4rT_",
        "colab": {
          "base_uri": "https://localhost:8080/"
        },
        "outputId": "4b371bff-8f72-4a23-9e5a-e784de726cb9"
      },
      "execution_count": null,
      "outputs": [
        {
          "output_type": "stream",
          "name": "stdout",
          "text": [
            "[1, 2, 300, 4, 5]\n",
            "[1, 2, 300, 4, 5]\n"
          ]
        }
      ]
    },
    {
      "cell_type": "code",
      "source": [
        " # 6.Write a function to demonstrate the behavior of mutable and immutable arguments.\n",
        "\n",
        "#mutables arguments behaviour >> we can change the value of container after created\n",
        "list1=[1,5.7,\"earth\",45,5]\n",
        "list1[1] =\"ram\"\n",
        "print(list1)\n",
        "\n",
        "#immutable arguments behaviour >>we can not change the value of container\n",
        "tuple1 = (0, 1, 2, 3)\n",
        "tuple1[0] = 4\n",
        "print(tuple1)\n"
      ],
      "metadata": {
        "id": "g_7Yrevu43-w",
        "colab": {
          "base_uri": "https://localhost:8080/",
          "height": 211
        },
        "outputId": "6a9bafd0-5850-4e3e-9b83-4fcc2f89ff30"
      },
      "execution_count": null,
      "outputs": [
        {
          "output_type": "stream",
          "name": "stdout",
          "text": [
            "[1, 'ram', 'earth', 45, 5]\n"
          ]
        },
        {
          "output_type": "error",
          "ename": "TypeError",
          "evalue": "'tuple' object does not support item assignment",
          "traceback": [
            "\u001b[0;31m---------------------------------------------------------------------------\u001b[0m",
            "\u001b[0;31mTypeError\u001b[0m                                 Traceback (most recent call last)",
            "\u001b[0;32m<ipython-input-35-cc33c5b4b27e>\u001b[0m in \u001b[0;36m<cell line: 10>\u001b[0;34m()\u001b[0m\n\u001b[1;32m      8\u001b[0m \u001b[0;31m#immutable arguments behavious >>\u001b[0m\u001b[0;34m\u001b[0m\u001b[0;34m\u001b[0m\u001b[0m\n\u001b[1;32m      9\u001b[0m \u001b[0mtuple1\u001b[0m \u001b[0;34m=\u001b[0m \u001b[0;34m(\u001b[0m\u001b[0;36m0\u001b[0m\u001b[0;34m,\u001b[0m \u001b[0;36m1\u001b[0m\u001b[0;34m,\u001b[0m \u001b[0;36m2\u001b[0m\u001b[0;34m,\u001b[0m \u001b[0;36m3\u001b[0m\u001b[0;34m)\u001b[0m\u001b[0;34m\u001b[0m\u001b[0;34m\u001b[0m\u001b[0m\n\u001b[0;32m---> 10\u001b[0;31m \u001b[0mtuple1\u001b[0m\u001b[0;34m[\u001b[0m\u001b[0;36m0\u001b[0m\u001b[0;34m]\u001b[0m \u001b[0;34m=\u001b[0m \u001b[0;36m4\u001b[0m\u001b[0;34m\u001b[0m\u001b[0;34m\u001b[0m\u001b[0m\n\u001b[0m\u001b[1;32m     11\u001b[0m \u001b[0mprint\u001b[0m\u001b[0;34m(\u001b[0m\u001b[0mtuple1\u001b[0m\u001b[0;34m)\u001b[0m\u001b[0;34m\u001b[0m\u001b[0;34m\u001b[0m\u001b[0m\n",
            "\u001b[0;31mTypeError\u001b[0m: 'tuple' object does not support item assignment"
          ]
        }
      ]
    },
    {
      "cell_type": "code",
      "source": [
        " # 7.Write a function to demonstrate the behavior of mutable and immutable arguments.\n",
        ".Write a function to demonstrate the behavior of mutable and immutable arguments.\n",
        "\n",
        "#mutables arguments behaviour >> we can change the value of container after created\n",
        "list1=[1,5.7,\"earth\",45,5]\n",
        "list1[1] =\"ram\"\n",
        "print(list1)\n",
        "\n",
        "#immutable arguments behaviour >>we can not change the value of container\n",
        "tuple1 = (0, 1, 2, 3)\n",
        "tuple1[0] = 4\n",
        "print(tuple1)"
      ],
      "metadata": {
        "id": "Gh5HNw_29tX9",
        "colab": {
          "base_uri": "https://localhost:8080/",
          "height": 106
        },
        "outputId": "f0c966a5-ad88-4386-9059-43476b37f88a"
      },
      "execution_count": null,
      "outputs": [
        {
          "output_type": "error",
          "ename": "SyntaxError",
          "evalue": "invalid syntax (<ipython-input-48-bada4553a064>, line 2)",
          "traceback": [
            "\u001b[0;36m  File \u001b[0;32m\"<ipython-input-48-bada4553a064>\"\u001b[0;36m, line \u001b[0;32m2\u001b[0m\n\u001b[0;31m    .Write a function to demonstrate the behavior of mutable and immutable arguments.\u001b[0m\n\u001b[0m    ^\u001b[0m\n\u001b[0;31mSyntaxError\u001b[0m\u001b[0;31m:\u001b[0m invalid syntax\n"
          ]
        }
      ]
    },
    {
      "cell_type": "code",
      "source": [
        " # 8. Write a program to demonstrate the use of logical operators.\n",
        "a =True\n",
        "b =False\n",
        "c =True\n",
        "#logical and operator\n",
        "result_and=a and b\n",
        "print(a and b)\n",
        "#logical or operator\n",
        "result_or= a or c\n",
        "print(a or c)\n",
        "#logical not operator\n",
        "print(not a)\n",
        "print(not b)"
      ],
      "metadata": {
        "id": "9X77gGyF4-q4",
        "colab": {
          "base_uri": "https://localhost:8080/"
        },
        "outputId": "9ffbc8df-a17f-4790-bc65-f5948949ac34"
      },
      "execution_count": null,
      "outputs": [
        {
          "output_type": "stream",
          "name": "stdout",
          "text": [
            "False\n",
            "True\n",
            "False\n",
            "True\n"
          ]
        }
      ]
    },
    {
      "cell_type": "code",
      "source": [
        "#9. Write a Python program to convert user input from string to integer, float, and boolean types.\n",
        "a=\"27\"\n",
        "print(type(a))\n",
        "print(type(int(a)))\n",
        "print(type(float(a)))\n",
        "print(bool(a))\n"
      ],
      "metadata": {
        "colab": {
          "base_uri": "https://localhost:8080/"
        },
        "id": "0QVj_kNK5Nfu",
        "outputId": "5edfa581-be86-457d-b75a-4622e38bdbf3"
      },
      "execution_count": null,
      "outputs": [
        {
          "output_type": "stream",
          "name": "stdout",
          "text": [
            "<class 'str'>\n",
            "<class 'int'>\n",
            "<class 'float'>\n",
            "True\n"
          ]
        }
      ]
    },
    {
      "cell_type": "code",
      "source": [
        "#10. Write code to demonstrate type casting with list elements.\n",
        "l=[28, 6.8,\"India\",\"true\",56]\n",
        "l[1]= str(l[1])\n",
        "print(type(l[1]))\n",
        "l[4]=float(l[4])\n",
        "print(type(l[4]))"
      ],
      "metadata": {
        "id": "oEByPYCO6e4D",
        "colab": {
          "base_uri": "https://localhost:8080/"
        },
        "outputId": "445dee0e-9e64-4382-ad04-34bc3f1d3b8b"
      },
      "execution_count": null,
      "outputs": [
        {
          "output_type": "stream",
          "name": "stdout",
          "text": [
            "<class 'str'>\n",
            "<class 'float'>\n"
          ]
        }
      ]
    },
    {
      "cell_type": "code",
      "source": [
        "#11. Write a program that checks if a number is positive, negative, or zero.\n",
        "num=1\n",
        "if num>0:\n",
        "    print(\"The number is positive\")\n",
        "elif num<0:\n",
        "    print(\"the number is negative\")\n",
        "else :\n",
        "    print(\"The number is equal to zero\")"
      ],
      "metadata": {
        "id": "_wgskdJk7Ls6",
        "colab": {
          "base_uri": "https://localhost:8080/"
        },
        "outputId": "cb81762a-ac13-440b-8686-e615a689ca0f"
      },
      "execution_count": null,
      "outputs": [
        {
          "output_type": "stream",
          "name": "stdout",
          "text": [
            "The number is positive\n"
          ]
        }
      ]
    },
    {
      "cell_type": "code",
      "source": [
        "#12. Write a for loop to print numbers from 1 to 10.\n",
        "list(range(0,11))\n",
        "for i in range(0,11):\n",
        "    print(i)"
      ],
      "metadata": {
        "colab": {
          "base_uri": "https://localhost:8080/"
        },
        "id": "-a927sDy79ps",
        "outputId": "a0926411-3db3-4302-de32-d1784be1d238"
      },
      "execution_count": null,
      "outputs": [
        {
          "output_type": "stream",
          "name": "stdout",
          "text": [
            "0\n",
            "1\n",
            "2\n",
            "3\n",
            "4\n",
            "5\n",
            "6\n",
            "7\n",
            "8\n",
            "9\n",
            "10\n"
          ]
        }
      ]
    },
    {
      "cell_type": "code",
      "source": [
        " #13.  Write a Python program to find the sum of all even numbers between 1 and 50.\n",
        "for i in range(1,51):\n",
        "    if i %2!=0:\n",
        "        continue\n",
        "    print(i)\n"
      ],
      "metadata": {
        "id": "E0FfEAes8r6e",
        "colab": {
          "base_uri": "https://localhost:8080/"
        },
        "outputId": "fec68048-7d2f-4cc0-c4f4-26f3fcd443b7"
      },
      "execution_count": null,
      "outputs": [
        {
          "output_type": "stream",
          "name": "stdout",
          "text": [
            "2\n",
            "4\n",
            "6\n",
            "8\n",
            "10\n",
            "12\n",
            "14\n",
            "16\n",
            "18\n",
            "20\n",
            "22\n",
            "24\n",
            "26\n",
            "28\n",
            "30\n",
            "32\n",
            "34\n",
            "36\n",
            "38\n",
            "40\n",
            "42\n",
            "44\n",
            "46\n",
            "48\n",
            "50\n"
          ]
        }
      ]
    },
    {
      "cell_type": "code",
      "source": [
        "#14. Write a program to reverse a string using a while loop.\n",
        "string = input('Enter the string: ')\n",
        "i = string\n",
        "reverse = ''\n",
        "while(len(i) > 0):\n",
        "   if(len(i) > 0):\n",
        "     a = i[-1]\n",
        "     i= i[:-1]\n",
        "     reverse += a\n",
        "print('The reverse string is', reverse)\n"
      ],
      "metadata": {
        "id": "8aRbTgbn82Yw",
        "colab": {
          "base_uri": "https://localhost:8080/"
        },
        "outputId": "83f0a2f5-affe-48a1-e999-28a5972f2868"
      },
      "execution_count": null,
      "outputs": [
        {
          "output_type": "stream",
          "name": "stdout",
          "text": [
            "Enter the string: hello world\n",
            "The reverse string is dlrow olleh\n"
          ]
        }
      ]
    },
    {
      "cell_type": "code",
      "source": [
        "#15. Write a Python program to calculate the factorial of a number provided by the user using a while loop.\n",
        "n=7\n",
        "factorial=1\n",
        "i=1\n",
        "while i<=n:\n",
        "    factorial *= i\n",
        "    i += 1\n",
        "print(f\"The factorial of {n} is {factorial}\")\n"
      ],
      "metadata": {
        "id": "ruwsd4dt9Lv-",
        "colab": {
          "base_uri": "https://localhost:8080/"
        },
        "outputId": "ec4f387e-6625-4745-c60d-d02c406a637f"
      },
      "execution_count": null,
      "outputs": [
        {
          "output_type": "stream",
          "name": "stdout",
          "text": [
            "The factorial of 7 is 5040\n"
          ]
        }
      ]
    }
  ]
}